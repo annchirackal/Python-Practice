{
  "nbformat": 4,
  "nbformat_minor": 0,
  "metadata": {
    "colab": {
      "provenance": [],
      "authorship_tag": "ABX9TyMjcSR4lEWRbEbuH+ZhhAC6",
      "include_colab_link": true
    },
    "kernelspec": {
      "name": "python3",
      "display_name": "Python 3"
    },
    "language_info": {
      "name": "python"
    }
  },
  "cells": [
    {
      "cell_type": "markdown",
      "metadata": {
        "id": "view-in-github",
        "colab_type": "text"
      },
      "source": [
        "<a href=\"https://colab.research.google.com/github/annchirackal/Python-Practice/blob/main/python_practice.ipynb\" target=\"_parent\"><img src=\"https://colab.research.google.com/assets/colab-badge.svg\" alt=\"Open In Colab\"/></a>"
      ]
    },
    {
      "cell_type": "code",
      "execution_count": null,
      "metadata": {
        "colab": {
          "base_uri": "https://localhost:8080/"
        },
        "id": "LuuLe5aGSWjm",
        "outputId": "0fbca9b2-d2ca-4ced-9fd9-9c71dd24a7cb"
      },
      "outputs": [
        {
          "output_type": "stream",
          "name": "stdout",
          "text": [
            "google\n",
            "g 2\n",
            "o 2\n",
            "e 1\n"
          ]
        }
      ],
      "source": [
        "import math\n",
        "import os\n",
        "import random\n",
        "import re\n",
        "import sys\n",
        "# start at 7.24 am\n",
        "# end @ 7.42\n",
        "\n",
        "\n",
        "\n",
        "if __name__ == '__main__':\n",
        "    s = input()\n",
        "    s_list=sorted(s)\n",
        "    count_value={item:s_list.count(item) for item in s_list}\n",
        "    count_list =[(-count_value[x],x) for x in count_value.keys()]\n",
        "    count_list=sorted(count_list)\n",
        "    for val in count_list[:3]:\n",
        "      print(val[1],-val[0])"
      ]
    },
    {
      "cell_type": "code",
      "source": [
        "for i in range(1,int(input())+1): #More than 2 lines will result in 0 score. Do not leave a blank line also\n",
        "           print((10**i // 9)**2)\n"
      ],
      "metadata": {
        "colab": {
          "base_uri": "https://localhost:8080/"
        },
        "id": "doYCL1NZWGjr",
        "outputId": "08f66510-238d-4b40-e8b8-83d6eb11f6d7"
      },
      "execution_count": null,
      "outputs": [
        {
          "output_type": "stream",
          "name": "stdout",
          "text": [
            "5\n",
            "1\n",
            "121\n",
            "12321\n",
            "1234321\n",
            "123454321\n"
          ]
        }
      ]
    },
    {
      "cell_type": "code",
      "source": [
        "import itertools\n",
        "\n",
        "N = int(input())\n",
        "cases = list(input().split())\n",
        "K = int(input())\n",
        "\n",
        "all_combinations = list(itertools.combinations(cases, K))\n",
        "\n",
        "\n",
        "valid_combinations = [combo for combo in all_combinations if 'a' in combo]\n",
        "\n",
        "prob_consist_a = len(valid_combinations) / len(all_combinations)\n",
        "print(prob_consist_a)"
      ],
      "metadata": {
        "colab": {
          "base_uri": "https://localhost:8080/"
        },
        "id": "48rWz8j0kbxK",
        "outputId": "cbd8d4fd-bee6-44d2-e1fb-60e65f71a808"
      },
      "execution_count": null,
      "outputs": [
        {
          "output_type": "stream",
          "name": "stdout",
          "text": [
            "4\n",
            "a a c d\n",
            "2\n",
            "0.8333333333333334\n"
          ]
        }
      ]
    },
    {
      "cell_type": "code",
      "source": [
        "# Enter your code here. Read input from STDIN. Print output to STDOUT\n",
        "from itertools import product\n",
        "\n",
        "K, M = (int(x) for x in input().split())\n",
        "print(max(sum(t)%M for t in product(*[[int(x)**2 for x in input().split()][1:] for _ in range(K)])))"
      ],
      "metadata": {
        "id": "Fo47Nf9zkqs2",
        "outputId": "b444239c-7303-4561-d890-5bc20a522071",
        "colab": {
          "base_uri": "https://localhost:8080/"
        }
      },
      "execution_count": null,
      "outputs": [
        {
          "output_type": "stream",
          "name": "stdout",
          "text": [
            "2 3\n",
            "4 5\n",
            "6 7\n",
            "2\n"
          ]
        }
      ]
    },
    {
      "cell_type": "code",
      "source": [
        "n= int(input())\n",
        "\n",
        "for i in range(1,n+1):\n",
        "     print((int('1' * i))*(int('1' * i)))\n"
      ],
      "metadata": {
        "colab": {
          "base_uri": "https://localhost:8080/"
        },
        "id": "n6Yy0NN6NV5g",
        "outputId": "2ad7b5e0-e94e-43d9-803c-c3ac47d48fc2"
      },
      "execution_count": null,
      "outputs": [
        {
          "output_type": "stream",
          "name": "stdout",
          "text": [
            "5\n",
            "1\n",
            "121\n",
            "12321\n",
            "1234321\n",
            "123454321\n"
          ]
        }
      ]
    },
    {
      "cell_type": "code",
      "source": [
        "def fibonacci(n):\n",
        "    # return a list of fibonacci numbers\n",
        "    if n==0 :\n",
        "        list_val=[]\n",
        "    elif n==1:\n",
        "        list_val=[0]\n",
        "    else:\n",
        "        s=1\n",
        "        list_val=[0,1]\n",
        "        for i in range(2,n):\n",
        "            s=list_val[i-2]+list_val[i-1]\n",
        "            list_val.append(s)\n",
        "    return list_val\n",
        "cube = lambda x: x*x*x# complete the lambda function\n",
        "\n",
        "if __name__ == '__main__':\n",
        "    n = int(input())\n",
        "    print(list(map(cube, fibonacci(n))))"
      ],
      "metadata": {
        "colab": {
          "base_uri": "https://localhost:8080/"
        },
        "id": "NJiF0eOgYAqM",
        "outputId": "139686c1-6b3c-4cc3-8407-b5e1b1a351cd"
      },
      "execution_count": null,
      "outputs": [
        {
          "output_type": "stream",
          "name": "stdout",
          "text": [
            "6\n",
            "[0, 1, 1, 8, 27, 125]\n"
          ]
        }
      ]
    },
    {
      "cell_type": "code",
      "source": [
        "class Solution:\n",
        "    def isPalindrome(self, s: str) -> bool:\n",
        "        # Keep only alphanumeric characters and convert to lowercase.\n",
        "        filtered_chars = [char.lower() for char in s if char.isalnum()]\n",
        "        # Compare the filtered list with its reverse.\n",
        "        return filtered_chars == filtered_chars[::-1]"
      ],
      "metadata": {
        "id": "apFf96NrFZLY"
      },
      "execution_count": null,
      "outputs": []
    },
    {
      "cell_type": "code",
      "source": [
        "  def isSubsequence(self, s, t):\n",
        "        \"\"\"\n",
        "        :type s: str\n",
        "        :type t: str\n",
        "        :rtype: bool\n",
        "        \"\"\"\n",
        "        i=j=0\n",
        "        while i<len(s) and j<len(t):\n",
        "            if s[i] == t[j]:\n",
        "                i+=1\n",
        "            j+=1\n",
        "        return True if i==len(s) else False"
      ],
      "metadata": {
        "id": "XgKZsMx0oZen"
      },
      "execution_count": 1,
      "outputs": []
    }
  ]
}