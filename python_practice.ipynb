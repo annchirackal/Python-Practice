{
  "nbformat": 4,
  "nbformat_minor": 0,
  "metadata": {
    "colab": {
      "provenance": [],
      "authorship_tag": "ABX9TyPXLA5uHaxp2Pn+ZDQHxYTE",
      "include_colab_link": true
    },
    "kernelspec": {
      "name": "python3",
      "display_name": "Python 3"
    },
    "language_info": {
      "name": "python"
    }
  },
  "cells": [
    {
      "cell_type": "markdown",
      "metadata": {
        "id": "view-in-github",
        "colab_type": "text"
      },
      "source": [
        "<a href=\"https://colab.research.google.com/github/annchirackal/Python-Practice/blob/main/python_practice.ipynb\" target=\"_parent\"><img src=\"https://colab.research.google.com/assets/colab-badge.svg\" alt=\"Open In Colab\"/></a>"
      ]
    },
    {
      "cell_type": "code",
      "execution_count": null,
      "metadata": {
        "colab": {
          "base_uri": "https://localhost:8080/"
        },
        "id": "LuuLe5aGSWjm",
        "outputId": "0fbca9b2-d2ca-4ced-9fd9-9c71dd24a7cb"
      },
      "outputs": [
        {
          "output_type": "stream",
          "name": "stdout",
          "text": [
            "google\n",
            "g 2\n",
            "o 2\n",
            "e 1\n"
          ]
        }
      ],
      "source": [
        "import math\n",
        "import os\n",
        "import random\n",
        "import re\n",
        "import sys\n",
        "# start at 7.24 am\n",
        "# end @ 7.42\n",
        "\n",
        "\n",
        "\n",
        "if __name__ == '__main__':\n",
        "    s = input()\n",
        "    s_list=sorted(s)\n",
        "    count_value={item:s_list.count(item) for item in s_list}\n",
        "    count_list =[(-count_value[x],x) for x in count_value.keys()]\n",
        "    count_list=sorted(count_list)\n",
        "    for val in count_list[:3]:\n",
        "      print(val[1],-val[0])"
      ]
    },
    {
      "cell_type": "code",
      "source": [
        "for i in range(1,int(input())+1): #More than 2 lines will result in 0 score. Do not leave a blank line also\n",
        "           print((10**i // 9)**2)\n"
      ],
      "metadata": {
        "colab": {
          "base_uri": "https://localhost:8080/"
        },
        "id": "doYCL1NZWGjr",
        "outputId": "08f66510-238d-4b40-e8b8-83d6eb11f6d7"
      },
      "execution_count": null,
      "outputs": [
        {
          "output_type": "stream",
          "name": "stdout",
          "text": [
            "5\n",
            "1\n",
            "121\n",
            "12321\n",
            "1234321\n",
            "123454321\n"
          ]
        }
      ]
    },
    {
      "cell_type": "code",
      "source": [
        "import itertools\n",
        "\n",
        "N = int(input())\n",
        "cases = list(input().split())\n",
        "K = int(input())\n",
        "\n",
        "all_combinations = list(itertools.combinations(cases, K))\n",
        "\n",
        "\n",
        "valid_combinations = [combo for combo in all_combinations if 'a' in combo]\n",
        "\n",
        "prob_consist_a = len(valid_combinations) / len(all_combinations)\n",
        "print(prob_consist_a)"
      ],
      "metadata": {
        "colab": {
          "base_uri": "https://localhost:8080/"
        },
        "id": "48rWz8j0kbxK",
        "outputId": "cbd8d4fd-bee6-44d2-e1fb-60e65f71a808"
      },
      "execution_count": null,
      "outputs": [
        {
          "output_type": "stream",
          "name": "stdout",
          "text": [
            "4\n",
            "a a c d\n",
            "2\n",
            "0.8333333333333334\n"
          ]
        }
      ]
    },
    {
      "cell_type": "code",
      "source": [
        "# Enter your code here. Read input from STDIN. Print output to STDOUT\n",
        "from itertools import product\n",
        "\n",
        "K, M = (int(x) for x in input().split())\n",
        "print(max(sum(t)%M for t in product(*[[int(x)**2 for x in input().split()][1:] for _ in range(K)])))"
      ],
      "metadata": {
        "id": "Fo47Nf9zkqs2",
        "outputId": "b444239c-7303-4561-d890-5bc20a522071",
        "colab": {
          "base_uri": "https://localhost:8080/"
        }
      },
      "execution_count": null,
      "outputs": [
        {
          "output_type": "stream",
          "name": "stdout",
          "text": [
            "2 3\n",
            "4 5\n",
            "6 7\n",
            "2\n"
          ]
        }
      ]
    },
    {
      "cell_type": "code",
      "source": [
        "n= int(input())\n",
        "\n",
        "for i in range(1,n+1):\n",
        "     print((int('1' * i))*(int('1' * i)))\n"
      ],
      "metadata": {
        "colab": {
          "base_uri": "https://localhost:8080/"
        },
        "id": "n6Yy0NN6NV5g",
        "outputId": "2ad7b5e0-e94e-43d9-803c-c3ac47d48fc2"
      },
      "execution_count": null,
      "outputs": [
        {
          "output_type": "stream",
          "name": "stdout",
          "text": [
            "5\n",
            "1\n",
            "121\n",
            "12321\n",
            "1234321\n",
            "123454321\n"
          ]
        }
      ]
    },
    {
      "cell_type": "code",
      "source": [
        "def fibonacci(n):\n",
        "    # return a list of fibonacci numbers\n",
        "    if n==0 :\n",
        "        list_val=[]\n",
        "    elif n==1:\n",
        "        list_val=[0]\n",
        "    else:\n",
        "        s=1\n",
        "        list_val=[0,1]\n",
        "        for i in range(2,n):\n",
        "            s=list_val[i-2]+list_val[i-1]\n",
        "            list_val.append(s)\n",
        "    return list_val\n",
        "cube = lambda x: x*x*x# complete the lambda function\n",
        "\n",
        "if __name__ == '__main__':\n",
        "    n = int(input())\n",
        "    print(list(map(cube, fibonacci(n))))"
      ],
      "metadata": {
        "colab": {
          "base_uri": "https://localhost:8080/"
        },
        "id": "NJiF0eOgYAqM",
        "outputId": "139686c1-6b3c-4cc3-8407-b5e1b1a351cd"
      },
      "execution_count": null,
      "outputs": [
        {
          "output_type": "stream",
          "name": "stdout",
          "text": [
            "6\n",
            "[0, 1, 1, 8, 27, 125]\n"
          ]
        }
      ]
    },
    {
      "cell_type": "code",
      "source": [
        "class Solution:\n",
        "    def isPalindrome(self, s: str) -> bool:\n",
        "        # Keep only alphanumeric characters and convert to lowercase.\n",
        "        filtered_chars = [char.lower() for char in s if char.isalnum()]\n",
        "        # Compare the filtered list with its reverse.\n",
        "        return filtered_chars == filtered_chars[::-1]"
      ],
      "metadata": {
        "id": "apFf96NrFZLY"
      },
      "execution_count": null,
      "outputs": []
    },
    {
      "cell_type": "code",
      "source": [
        "  def isSubsequence(self, s, t):\n",
        "        \"\"\"\n",
        "        :type s: str\n",
        "        :type t: str\n",
        "        :rtype: bool\n",
        "        \"\"\"\n",
        "        i=j=0\n",
        "        while i<len(s) and j<len(t):\n",
        "            if s[i] == t[j]:\n",
        "                i+=1\n",
        "            j+=1\n",
        "        return True if i==len(s) else False"
      ],
      "metadata": {
        "id": "XgKZsMx0oZen"
      },
      "execution_count": null,
      "outputs": []
    },
    {
      "cell_type": "code",
      "source": [
        "count=input().split(' ')\n",
        "n_st=int(count[0])\n",
        "n_sb=int(count[1])\n",
        "mark_list=[]\n",
        "for i in range(n_sb):\n",
        "    in_val=input().split()\n",
        "    in_val_m = list(map(float,in_val))\n",
        "    mark_list.append(in_val_m)\n",
        "zip_list=list(zip(*mark_list))\n",
        "for i in zip_list:\n",
        "    print(sum(i)/n_sb)\n"
      ],
      "metadata": {
        "colab": {
          "base_uri": "https://localhost:8080/"
        },
        "id": "541MqdpvwR_Q",
        "outputId": "99fd5f8e-49bb-44c1-8b5f-9c4952f070e2"
      },
      "execution_count": null,
      "outputs": [
        {
          "output_type": "stream",
          "name": "stdout",
          "text": [
            "5 3\n",
            " 1 2 3 4 5\n",
            "1 2 3 4 6 7\n",
            "2 3 5 6 7\n",
            "1.3333333333333333\n",
            "2.3333333333333335\n",
            "3.6666666666666665\n",
            "4.666666666666667\n",
            "6.0\n"
          ]
        }
      ]
    },
    {
      "cell_type": "code",
      "source": [
        "class Solution(object):\n",
        "    def twoSum(self, numbers, target):\n",
        "        \"\"\"\n",
        "        :type numbers: List[int]\n",
        "        :type target: int\n",
        "        :rtype: List[int]\n",
        "        \"\"\"\n",
        "        seen={}\n",
        "        for i,n in enumerate(numbers):\n",
        "            complement = target-n\n",
        "            if complement in seen:\n",
        "                return (seen[complement]+1,i+1)\n",
        "\n",
        "            seen[n]=i\n",
        "\n",
        "### best solution\n",
        "class Solution(object):\n",
        "    def twoSum(self, numbers, target):\n",
        "        \"\"\"\n",
        "        :type numbers: List[int]\n",
        "        :type target: int\n",
        "        :rtype: List[int]\n",
        "        \"\"\"\n",
        "        left=0\n",
        "        right=len(numbers)-1\n",
        "        while(left<right):\n",
        "            if numbers[left]+numbers[right]>target:\n",
        "                right-=1\n",
        "            elif numbers[left]+numbers[right]<target:\n",
        "                left+=1\n",
        "            else:\n",
        "                return [left+1,right+1]"
      ],
      "metadata": {
        "id": "p9NdjELGin5O"
      },
      "execution_count": null,
      "outputs": []
    },
    {
      "cell_type": "code",
      "source": [
        "class Solution(object):\n",
        "    def maxArea(self, height):\n",
        "        \"\"\"\n",
        "        :type height: List[int]\n",
        "        :rtype: int\n",
        "        \"\"\"\n",
        "        maxi=0\n",
        "        if len(height)<=1:\n",
        "            return maxi\n",
        "        while len(height)>1:\n",
        "            low=min(height[0],height[-1])\n",
        "            maxi=max(maxi,low*(len(height)-1))\n",
        "            if height[0]<height[-1]:\n",
        "                height.pop(0)\n",
        "            else:\n",
        "                height.pop()\n",
        "        return maxi"
      ],
      "metadata": {
        "id": "VRTr65pejx09"
      },
      "execution_count": null,
      "outputs": []
    },
    {
      "cell_type": "code",
      "source": [
        "class Solution(object):\n",
        "    def reverseWords(self, s):\n",
        "        \"\"\"\n",
        "        :type s: str\n",
        "        :rtype: str\n",
        "        \"\"\"\n",
        "        a=s.split()\n",
        "        return ' '.join(a[::-1])"
      ],
      "metadata": {
        "id": "HEHSl1qLj3hB"
      },
      "execution_count": null,
      "outputs": []
    },
    {
      "cell_type": "code",
      "source": [
        "class Solution(object):\n",
        "    def reverseWords(self, s):\n",
        "        \"\"\"\n",
        "        :type s: List[str]\n",
        "        :rtype: None Do not return anything, modify s in-place instead.\n",
        "        \"\"\"\n",
        "\n",
        "        def reverse(left, right):\n",
        "            while left < right:\n",
        "                s[left], s[right] = s[right], s[left]\n",
        "                left += 1\n",
        "                right -= 1\n",
        "\n",
        "        # Step 1: Reverse the entire list\n",
        "        reverse(0, len(s) - 1)\n",
        "\n",
        "        # Step 2: Reverse each word\n",
        "        start = 0\n",
        "        for end in range(len(s)):\n",
        "            if s[end] == \" \":\n",
        "                reverse(start, end - 1)  # Reverse the current word\n",
        "                start = end + 1  # Move to the next word\n",
        "\n",
        "        # Reverse the last word (if exists)\n",
        "        reverse(start, len(s) - 1)\n",
        "\n",
        "\n",
        "\n",
        "\n"
      ],
      "metadata": {
        "id": "LV3I-bVHPnX2"
      },
      "execution_count": null,
      "outputs": []
    },
    {
      "cell_type": "code",
      "source": [
        "# Definition for singly-linked list.\n",
        "# class ListNode(object):\n",
        "#     def __init__(self, val=0, next=None):\n",
        "#         self.val = val\n",
        "#         self.next = next\n",
        "class Solution(object):\n",
        "    def addTwoNumbers(self, l1, l2):\n",
        "        \"\"\"\n",
        "        :type l1: Optional[ListNode]\n",
        "        :type l2: Optional[ListNode]\n",
        "        :rtype: Optional[ListNode]\n",
        "        \"\"\"\n",
        "        carry=0\n",
        "        dummy_head = ListNode()\n",
        "        current=dummy_head\n",
        "        while l1 or l2 or carry:\n",
        "            val1 = l1.val if l1 else 0\n",
        "            val2 = l2.val if l2 else 0\n",
        "            total = val1 + val2 + carry\n",
        "            carry = total // 10\n",
        "            new_val = total % 10\n",
        "            current.next = ListNode(new_val)\n",
        "            current = current.next\n",
        "\n",
        "            if l1:\n",
        "                l1 = l1.next\n",
        "            if l2:\n",
        "                l2 = l2.next\n",
        "\n",
        "        return dummy_head.next"
      ],
      "metadata": {
        "id": "LmF9AMq2WNam"
      },
      "execution_count": null,
      "outputs": []
    },
    {
      "cell_type": "code",
      "source": [
        "class Solution:\n",
        "    def isPalindrome(self, x: int) -> bool:\n",
        "        \"\"\"\n",
        "        A function to check a number is palindrome\n",
        "        parameters:\n",
        "        x:int - number to be checked\n",
        "        Returns:\n",
        "        Boolen : True if number is palindrom else false\n",
        "        \"\"\"\n",
        "        temp = x\n",
        "        newval = 0\n",
        "\n",
        "        while temp>0:\n",
        "            newval = (newval*10 )+ (temp%10)\n",
        "            temp = temp //10\n",
        "\n",
        "        if newval == x :\n",
        "            return True\n",
        "        else :\n",
        "            return False"
      ],
      "metadata": {
        "id": "hWjyfl3xGcrW"
      },
      "execution_count": null,
      "outputs": []
    },
    {
      "cell_type": "code",
      "source": [
        "class Solution:\n",
        "    def search(self, nums, target) -> int:\n",
        "\n",
        "        left, right = 0, len(nums) - 1\n",
        "\n",
        "        while left <= right:\n",
        "            mid = (left + right) // 2\n",
        "\n",
        "            if nums[mid] == target:\n",
        "                return mid\n",
        "\n",
        "            # Left half is sorted\n",
        "            if nums[left] <= nums[mid]:\n",
        "                if nums[left] <= target < nums[mid]:\n",
        "                    right = mid - 1  # target is in the left half\n",
        "                else:\n",
        "                    left = mid + 1   # target is in the right half\n",
        "\n",
        "            # Right half is sorted\n",
        "            else:\n",
        "                if nums[mid] < target <= nums[right]:\n",
        "                    left = mid + 1   # target is in the right half\n",
        "                else:\n",
        "                    right = mid - 1  # target is in the left half\n",
        "\n",
        "        return -1\n"
      ],
      "metadata": {
        "id": "QFWXrfUd78IV"
      },
      "execution_count": null,
      "outputs": []
    },
    {
      "cell_type": "code",
      "source": [
        "class Solution:\n",
        "    def containsNearbyDuplicate(self, nums, k) -> bool:\n",
        "        index_map = {}\n",
        "\n",
        "        for i in range(len(nums)):\n",
        "            if nums[i] in index_map:\n",
        "                print(i-index_map[nums[i]])\n",
        "                if i-index_map[nums[i]] <= k:\n",
        "                   return True\n",
        "\n",
        "\n",
        "            index_map[nums[i]] =i\n",
        "\n",
        "\n",
        "        return False\n"
      ],
      "metadata": {
        "id": "ikGepVEp9EIN"
      },
      "execution_count": null,
      "outputs": []
    },
    {
      "cell_type": "code",
      "source": [
        "class Solution:\n",
        "    def searchRange(self, nums: List[int], target: int) -> List[int]:\n",
        "        \"\"\"\n",
        "        Given a sorted array , and a taget number , you need to find startinga need\n",
        "        find staring and end of of target if it repats\n",
        "        O(logn) - meaning ist should be a binary search.\n",
        "        \"\"\"\n",
        "        start , end = 0,len(nums)-1\n",
        "        if len(nums)==1 and nums[0] == target :\n",
        "            return [0,0]\n",
        "\n",
        "        while start <= end :\n",
        "            mid =( start+end) //2\n",
        "            if nums[mid] == target:\n",
        "                start=end=mid\n",
        "                mid = start -1\n",
        "                while start-1 >=0 and nums[start-1]==target:\n",
        "                    start = start -1\n",
        "                while end+1<=len(nums)-1 and nums[end+1] == target:\n",
        "                    end = end+1\n",
        "                return [start,end]\n",
        "            if nums[mid]>target:\n",
        "                end = mid-1\n",
        "            if nums[mid]<target:\n",
        "                start = mid +1\n",
        "        return [-1,-1]\n",
        "\n",
        "\n",
        "\n",
        "\n",
        "\n",
        "\n",
        "\n"
      ],
      "metadata": {
        "id": "Ir1NebvZBJCd"
      },
      "execution_count": null,
      "outputs": []
    },
    {
      "cell_type": "code",
      "source": [
        "class Solution:\n",
        "    def maximumTop(self, nums, k) -> int:\n",
        "        n = len(nums)\n",
        "        if k == 0:\n",
        "            return nums[0] if nums else -1\n",
        "        if k == 1:\n",
        "            return nums[1] if n > 1 else -1\n",
        "        if n == 1:\n",
        "            return nums[0] if k % 2 == 0 else -1\n",
        "        if k < n:\n",
        "            return max(nums[:k-1]+[nums[k]])\n",
        "        else:\n",
        "            return max(nums[:k-1])\n"
      ],
      "metadata": {
        "id": "LKGvZ7_4v-8W"
      },
      "execution_count": null,
      "outputs": []
    },
    {
      "cell_type": "code",
      "source": [
        "class Solution:\n",
        "    def removeElement(self, nums, val) -> int:\n",
        "        \"\"\"\n",
        "        logic : use a two pointer\n",
        "        loop from left utill itss less than right.\n",
        "        if nums[left] == val :\n",
        "            check nums[right] , if right == val ,\n",
        "            decrease right , and check again untill right not equals val\n",
        "            now swap , nums[left] and nums [right]\n",
        "            [3,2,2,3] val =2\n",
        "\n",
        "        \"\"\"\n",
        "        index=0\n",
        "        for i in range(len(nums)):\n",
        "            if nums[i]!=val:\n",
        "                nums[index]=nums[i]\n",
        "                index+=1\n",
        "        return index\n",
        "\n"
      ],
      "metadata": {
        "id": "2_oC3nfxsUiE"
      },
      "execution_count": null,
      "outputs": []
    },
    {
      "cell_type": "code",
      "source": [
        "class Solution:\n",
        "    def eraseOverlapIntervals(self, intervals) -> int:\n",
        "        n = len(intervals)\n",
        "        r =0\n",
        "        intervals.sort(key = lambda x : x[1])\n",
        "        if n <= 1 :\n",
        "            return r\n",
        "        left =0\n",
        "        right =1\n",
        "        while right < n :\n",
        "\n",
        "            if intervals[left][1]>intervals[right][0]:\n",
        "                r = r+1\n",
        "                right +=1\n",
        "            else:\n",
        "                left = right\n",
        "                right +=1\n",
        "        return r\n"
      ],
      "metadata": {
        "id": "HNJRxtP3_rjy"
      },
      "execution_count": null,
      "outputs": []
    },
    {
      "cell_type": "code",
      "source": [
        "class Solution:\n",
        "    def climbStairs(self, n: int) -> int:\n",
        "        a,b = 1,2\n",
        "        if n==1:\n",
        "            return a\n",
        "        for i in range(3,n+1):\n",
        "            a,b = b,a+b\n",
        "        return b\n"
      ],
      "metadata": {
        "id": "NizPUETXfCtV"
      },
      "execution_count": null,
      "outputs": []
    },
    {
      "cell_type": "code",
      "source": [
        "from typing import Optional, List\n",
        "\n",
        "class TreeNode:\n",
        "    def __init__(self, val=0, left=None, right=None):\n",
        "        self.val = val\n",
        "        self.left = left\n",
        "        self.right = right\n",
        "\n",
        "class Solution:\n",
        "    def preorderTraversal(self, root: Optional[TreeNode]) -> List[int]:\n",
        "        result = []\n",
        "\n",
        "        def dfs_search(node):\n",
        "            \"\"\"Performs preorder traversal (Root → Left → Right).\"\"\"\n",
        "            if node:\n",
        "                result.append(node.val)\n",
        "                dfs_search(node.left)\n",
        "                dfs_search(node.right)\n",
        "\n",
        "        dfs_search(root)\n",
        "        return result"
      ],
      "metadata": {
        "id": "FxM4ANTh7h29"
      },
      "execution_count": null,
      "outputs": []
    },
    {
      "cell_type": "code",
      "source": [
        "class Solution:\n",
        "    def canAttendMeetings(self, intervals) -> bool:\n",
        "        intervals.sort(key = lambda x:x[1])\n",
        "        for i in range(1,len(intervals)) :\n",
        "           if  intervals[i][0]<intervals[i-1][1]:\n",
        "            return False\n",
        "        return True"
      ],
      "metadata": {
        "id": "pCQskYLGwtdD"
      },
      "execution_count": null,
      "outputs": []
    },
    {
      "cell_type": "code",
      "source": [
        "class Solution:\n",
        "    def jump(self, nums) -> int:\n",
        "        jumps = 0          # Number of jumps made\n",
        "        current_end = 0    # End of the current jump\n",
        "        farthest = 0       # Farthest we can reach so far\n",
        "\n",
        "        for i in range(len(nums) - 1):  # No need to check the last element\n",
        "            farthest = max(farthest, i + nums[i])\n",
        "            print(farthest)\n",
        "\n",
        "            # If we have come to the end of the current jump\n",
        "            if i == current_end:\n",
        "                jumps += 1\n",
        "                current_end = farthest  # Extend the range for the next jump\n",
        "\n",
        "        return jumps\n"
      ],
      "metadata": {
        "id": "GVmRC9tXEwlf"
      },
      "execution_count": null,
      "outputs": []
    },
    {
      "cell_type": "code",
      "source": [
        "def track_val(n):\n",
        "  result = []\n",
        "  def reverse(val):\n",
        "    if val > n:\n",
        "      return\n",
        "\n",
        "    return reverse(val+1),result.append(val)\n",
        "  reverse(0)\n",
        "  print(result)\n"
      ],
      "metadata": {
        "id": "ujp4iIFBPUth"
      },
      "execution_count": null,
      "outputs": []
    },
    {
      "cell_type": "code",
      "source": [
        "class Solution:\n",
        "    def inorderTraversal(self, root):\n",
        "        result =[]\n",
        "        def track_node(node):\n",
        "            if not node:\n",
        "                return\n",
        "\n",
        "            track_node(node.left)\n",
        "            result.append(node.val)\n",
        "            track_node(node.right)\n",
        "\n",
        "\n",
        "        track_node(root)\n",
        "\n",
        "        return result"
      ],
      "metadata": {
        "id": "1L1KqzOmPuYg"
      },
      "execution_count": null,
      "outputs": []
    },
    {
      "cell_type": "code",
      "source": [
        "class Solution:\n",
        "    def canReach(self, arr: List[int], start: int) -> bool:\n",
        "        n = len(arr)\n",
        "        seen = set()\n",
        "\n",
        "        def make_move(idx):\n",
        "            if idx < 0 or idx >= n or idx in seen:\n",
        "                return False\n",
        "            if arr[idx] == 0:\n",
        "                return True\n",
        "\n",
        "            seen.add(idx)\n",
        "            return make_move(idx + arr[idx]) or make_move(idx - arr[idx])\n",
        "\n",
        "        return make_move(start)\n"
      ],
      "metadata": {
        "id": "FRSUBsRaTKMq"
      },
      "execution_count": null,
      "outputs": []
    },
    {
      "cell_type": "code",
      "source": [
        "class Solution:\n",
        "    def inorderTraversal(self, root) :\n",
        "        stack =[]\n",
        "        result = []\n",
        "        current = root\n",
        "        while current or stack:\n",
        "\n",
        "            while current :\n",
        "                stack .append(current)\n",
        "                current = current.left\n",
        "\n",
        "            current = stack.pop()\n",
        "            result.append(current.val)\n",
        "            current = current.right\n",
        "        return result\n"
      ],
      "metadata": {
        "id": "uvncgGZxuRSO"
      },
      "execution_count": null,
      "outputs": []
    }
  ]
}