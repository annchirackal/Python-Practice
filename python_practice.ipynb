{
  "nbformat": 4,
  "nbformat_minor": 0,
  "metadata": {
    "colab": {
      "provenance": [],
      "authorship_tag": "ABX9TyPzHU2xnbUBvS1h0APBnzHq",
      "include_colab_link": true
    },
    "kernelspec": {
      "name": "python3",
      "display_name": "Python 3"
    },
    "language_info": {
      "name": "python"
    }
  },
  "cells": [
    {
      "cell_type": "markdown",
      "metadata": {
        "id": "view-in-github",
        "colab_type": "text"
      },
      "source": [
        "<a href=\"https://colab.research.google.com/github/annchirackal/Python-Practice/blob/main/python_practice.ipynb\" target=\"_parent\"><img src=\"https://colab.research.google.com/assets/colab-badge.svg\" alt=\"Open In Colab\"/></a>"
      ]
    },
    {
      "cell_type": "code",
      "execution_count": 2,
      "metadata": {
        "colab": {
          "base_uri": "https://localhost:8080/"
        },
        "id": "LuuLe5aGSWjm",
        "outputId": "0fbca9b2-d2ca-4ced-9fd9-9c71dd24a7cb"
      },
      "outputs": [
        {
          "output_type": "stream",
          "name": "stdout",
          "text": [
            "google\n",
            "g 2\n",
            "o 2\n",
            "e 1\n"
          ]
        }
      ],
      "source": [
        "import math\n",
        "import os\n",
        "import random\n",
        "import re\n",
        "import sys\n",
        "# start at 7.24 am\n",
        "# end @ 7.42\n",
        "\n",
        "\n",
        "\n",
        "if __name__ == '__main__':\n",
        "    s = input()\n",
        "    s_list=sorted(s)\n",
        "    count_value={item:s_list.count(item) for item in s_list}\n",
        "    count_list =[(-count_value[x],x) for x in count_value.keys()]\n",
        "    count_list=sorted(count_list)\n",
        "    for val in count_list[:3]:\n",
        "      print(val[1],-val[0])"
      ]
    }
  ]
}